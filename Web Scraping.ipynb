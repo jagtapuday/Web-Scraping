{
 "cells": [
  {
   "cell_type": "code",
   "execution_count": 1,
   "metadata": {},
   "outputs": [],
   "source": [
    "from selenium import webdriver\n",
    "from webdriver_manager.chrome import ChromeDriverManager\n",
    "from selenium.webdriver.common.keys import Keys\n",
    "import time\n",
    "import requests\n",
    "from bs4 import BeautifulSoup\n",
    "import time\n",
    "import multiprocessing \n",
    "import csv\n",
    "import pandas as pd\n",
    "# driver = webdriver.Chrome(ChromeDriverManager().install())"
   ]
  },
  {
   "cell_type": "code",
   "execution_count": 2,
   "metadata": {},
   "outputs": [],
   "source": [
    "import re"
   ]
  },
  {
   "cell_type": "code",
   "execution_count": 2,
   "metadata": {},
   "outputs": [
    {
     "name": "stderr",
     "output_type": "stream",
     "text": [
      "[WDM] - Current google-chrome version is 84.0.4147\n",
      "[WDM] - Get LATEST driver version for 84.0.4147\n"
     ]
    },
    {
     "name": "stdout",
     "output_type": "stream",
     "text": [
      " \n"
     ]
    },
    {
     "name": "stderr",
     "output_type": "stream",
     "text": [
      "[WDM] - Driver [/home/uday/.wdm/drivers/chromedriver/linux64/84.0.4147.30/chromedriver] found in cache\n"
     ]
    }
   ],
   "source": [
    "from selenium import webdriver\n",
    "from webdriver_manager.chrome import ChromeDriverManager\n",
    "\n",
    "driver = webdriver.Chrome(ChromeDriverManager().install())\n",
    "# browser = webdriver.Chrome(\"/home/uday/.wdm/drivers/chromedriver/linux64/79.0.3945.36/chromedriver\")\n",
    "# browser = webdriver.Chrome= (\"/home/uday/.wdm/drivers/chromedriver/linux64/84.0.4147.30\")"
   ]
  },
  {
   "cell_type": "code",
   "execution_count": 29,
   "metadata": {},
   "outputs": [],
   "source": [
    "English=[\n",
    "#     \"Hello my name  Uday.\",\n",
    "    \"How are you dear?\",\n",
    "    \"What are you doing now?\",\n",
    "    \"Have a great day\"\n",
    "]"
   ]
  },
  {
   "cell_type": "code",
   "execution_count": null,
   "metadata": {},
   "outputs": [],
   "source": []
  },
  {
   "cell_type": "code",
   "execution_count": 9,
   "metadata": {},
   "outputs": [],
   "source": [
    "# f = open(\"english.txt\", \"r\",encoding='latin1')\n",
    "f = open(\"Demo\", \"r\",encoding=\"utf-8\")\n",
    "txt=f.read()\n",
    "# print(txt)"
   ]
  },
  {
   "cell_type": "code",
   "execution_count": 108,
   "metadata": {},
   "outputs": [],
   "source": [
    "# len(txt)"
   ]
  },
  {
   "cell_type": "code",
   "execution_count": null,
   "metadata": {},
   "outputs": [],
   "source": [
    "flag=0\n",
    "word=\"\"\n",
    "line=\"\"\n",
    "for i in range (len(txt[:80])): #(len(txt))\n",
    "#     print(txt[i])\n",
    "    if txt[i]==\">\" and txt[i+1]!=\"\\n\":\n",
    "        flag=1\n",
    "    elif txt[i]==\"<\":\n",
    "        print(word[1:])\n",
    "        line+=\">\"+Marathi_Convertion(word[1:])\n",
    "        word=\"\"\n",
    "        flag=0\n",
    "    if flag==1:\n",
    "        word+=txt[i]\n",
    "    else:\n",
    "        line+=txt[i]\n"
   ]
  },
  {
   "cell_type": "code",
   "execution_count": 38,
   "metadata": {},
   "outputs": [],
   "source": [
    "file1 = open(\"Marathi1.txt\",\"w\") \n",
    "file1.writelines(line) \n",
    "file1.close()"
   ]
  },
  {
   "cell_type": "code",
   "execution_count": 13,
   "metadata": {},
   "outputs": [
    {
     "name": "stdout",
     "output_type": "stream",
     "text": [
      "//account_statement\n",
      "><string name=\"str_from_date\">या तारखेपासून</string>\n",
      "><string name\n"
     ]
    }
   ],
   "source": [
    "print(line)"
   ]
  },
  {
   "cell_type": "code",
   "execution_count": 90,
   "metadata": {},
   "outputs": [],
   "source": [
    "driver.get('https://www.google.com/search?q=english+to+marathi&oq=e&aqs=chrome.0.69i59l3j69i57j69i59j69i60l3.1153j0j7&sourceid=chrome&ie=UTF-8');\n",
    "time.sleep(1)"
   ]
  },
  {
   "cell_type": "code",
   "execution_count": 11,
   "metadata": {},
   "outputs": [],
   "source": [
    "driver.get('https://www.google.com/search?q=english+to+marathi&oq=e&aqs=chrome.0.69i59l3j69i57j69i59j69i60l3.1153j0j7&sourceid=chrome&ie=UTF-8');\n",
    "time.sleep(1)\n",
    "search_box=driver.find_element_by_id(\"tw-source-text-ta\")\n",
    "def Marathi_Convertion(English_text):\n",
    "    search_box.send_keys(English_text)\n",
    "    time.sleep(1)\n",
    "    soup = BeautifulSoup(driver.page_source, 'html.parser')\n",
    "    Text=soup.find(\"span\", attrs={\"lang\": \"mr\"},recursive=True)\n",
    "    print(Text)\n",
    "    print(English_text,\" - \",Text.get_text())\n",
    "    driver.find_element_by_id(\"tw-source-text-ta\").clear()\n",
    "    search_box.send_keys(Keys.ENTER)\n",
    "    if Text.get_text()!=\"Translation\" :\n",
    "        return Text.get_text()\n",
    "    return \"\"\n",
    "    \n"
   ]
  },
  {
   "cell_type": "code",
   "execution_count": 25,
   "metadata": {},
   "outputs": [
    {
     "name": "stdout",
     "output_type": "stream",
     "text": [
      "<span lang=\"mr\">नमस्कार</span>\n",
      "Hello  -  नमस्कार\n"
     ]
    },
    {
     "data": {
      "text/plain": [
       "'नमस्कार'"
      ]
     },
     "execution_count": 25,
     "metadata": {},
     "output_type": "execute_result"
    }
   ],
   "source": [
    "Marathi_Convertion(\"Hello\")"
   ]
  },
  {
   "cell_type": "code",
   "execution_count": 18,
   "metadata": {},
   "outputs": [
    {
     "name": "stdout",
     "output_type": "stream",
     "text": [
      "<span lang=\"mr\">भाऊ</span>\n",
      "Brother  -  भाऊ\n"
     ]
    },
    {
     "data": {
      "text/plain": [
       "'भाऊ'"
      ]
     },
     "execution_count": 18,
     "metadata": {},
     "output_type": "execute_result"
    }
   ],
   "source": [
    "Marathi_Convertion(\"Brother\")"
   ]
  },
  {
   "cell_type": "code",
   "execution_count": null,
   "metadata": {},
   "outputs": [],
   "source": [
    "# https://www.google.com/search?q=English+to+hindi&oq=English+to+hindi&aqs=chrome..69i57.9257j0j7&sourceid=chrome&ie=UTF-8"
   ]
  },
  {
   "cell_type": "code",
   "execution_count": 6,
   "metadata": {},
   "outputs": [],
   "source": [
    "\n",
    "driver.get('https://www.google.com/search?q=English+to+hindi&oq=English+to+hindi&aqs=chrome..69i57.9257j0j7&sourceid=chrome&ie=UTF-8');\n",
    "search_box=driver.find_element_by_id(\"tw-source-text-ta\")\n",
    "def Hindi_Convertion(English_text):\n",
    "    search_box.send_keys(English_text)\n",
    "    time.sleep(1)\n",
    "    soup = BeautifulSoup(driver.page_source, 'html.parser')\n",
    "    Text=soup.find(\"span\", attrs={\"lang\": \"hi\"},recursive=True)\n",
    "    print(Text)\n",
    "    print(English_text,\" - \",Text.get_text())\n",
    "    driver.find_element_by_id(\"tw-source-text-ta\").clear()\n",
    "    search_box.send_keys(Keys.ENTER)\n",
    "    if Text.get_text()!=\"Translation\" :\n",
    "        return Text.get_text()\n",
    "    return \"\""
   ]
  },
  {
   "cell_type": "code",
   "execution_count": null,
   "metadata": {},
   "outputs": [],
   "source": [
    "flag=0\n",
    "word=\"\"\n",
    "line=\"\"\n",
    "for i in range (len(txt)): #(len(txt))\n",
    "#     print(txt[i])\n",
    "    if txt[i]==\">\" and txt[i+1]!=\"\\n\":\n",
    "        flag=1\n",
    "    elif txt[i]==\"<\":\n",
    "        print(word[1:])\n",
    "        temp=Hindi_Convertion(word[1:])\n",
    "        if temp==\"\":\n",
    "            line+=\"\"\n",
    "        else:\n",
    "            line+=\">\"+temp\n",
    "        word=\"\"\n",
    "        flag=0\n",
    "    if flag==1:\n",
    "        word+=txt[i]\n",
    "    else:\n",
    "        line+=txt[i]\n",
    "    \n",
    "\n",
    "file1 = open(\"Hindi.txt\",\"w\") \n",
    "file1.writelines(line) \n",
    "file1.close()"
   ]
  },
  {
   "cell_type": "code",
   "execution_count": null,
   "metadata": {},
   "outputs": [],
   "source": []
  }
 ],
 "metadata": {
  "kernelspec": {
   "display_name": "Python 3",
   "language": "python",
   "name": "python3"
  },
  "language_info": {
   "codemirror_mode": {
    "name": "ipython",
    "version": 3
   },
   "file_extension": ".py",
   "mimetype": "text/x-python",
   "name": "python",
   "nbconvert_exporter": "python",
   "pygments_lexer": "ipython3",
   "version": "3.7.7"
  },
  "toc": {
   "base_numbering": 1,
   "nav_menu": {},
   "number_sections": true,
   "sideBar": true,
   "skip_h1_title": false,
   "title_cell": "Table of Contents",
   "title_sidebar": "Contents",
   "toc_cell": false,
   "toc_position": {},
   "toc_section_display": true,
   "toc_window_display": false
  }
 },
 "nbformat": 4,
 "nbformat_minor": 4
}
